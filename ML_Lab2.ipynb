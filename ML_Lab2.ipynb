{
 "cells": [
  {
   "cell_type": "markdown",
   "id": "eb3da170",
   "metadata": {},
   "source": [
    "## Загружаем нужные библиотеки:"
   ]
  },
  {
   "cell_type": "code",
   "execution_count": 197,
   "id": "406c1d7f",
   "metadata": {},
   "outputs": [],
   "source": [
    "from datetime import timedelta\n",
    "import numpy as np              # Массивы (матрицы, векторы, линейная алгебра)\n",
    "import os\n",
    "import pandas as pd             # Таблицы и временные ряды (dataframe, series)\n",
    "import sklearn                  # Алгоритмы машинного обучения\n",
    "import sklearn.model_selection\n",
    "import sklearn.metrics\n",
    "import matplotlib.pyplot as plt  # Научная графика\n",
    "%matplotlib inline\n",
    "# Говорим jupyter'у, чтобы весь графический вывод был в браузере, а не в отдельном окне\n",
    "\n",
    "from sklearn.neural_network import MLPClassifier"
   ]
  },
  {
   "cell_type": "markdown",
   "id": "f6de5730",
   "metadata": {},
   "source": [
    "## Загружаем данные:"
   ]
  },
  {
   "cell_type": "code",
   "execution_count": 33,
   "id": "61b85b0c",
   "metadata": {},
   "outputs": [],
   "source": [
    "DATASET_PATH = os.path.abspath(os.path.join(os.getcwd(), '..', 'healthcare-dataset-stroke-data.csv'))\n",
    "dataset = pd.read_csv(DATASET_PATH)\n",
    "\n",
    "dataset.columns = dataset.columns.str.strip()\n",
    "\n",
    "dataset.drop('id', axis=1, inplace=True)\n",
    "dataset['gender'] = np.where(dataset['gender'] == 'Female', 1, 0)\n",
    "dataset['bmi'].replace({'N/A': None}, inplace=True)\n",
    "dataset['bmi'].fillna(dataset['bmi'].median(), inplace=True)\n",
    "dataset['smoking_status'].replace({'Unknown': None}, inplace=True)\n",
    "probabilities = dataset['smoking_status'].value_counts(normalize=True)\n",
    "missing = dataset['smoking_status'].isnull()\n",
    "dataset.loc[missing, 'smoking_status'] = np.random.choice(probabilities.index, size=len(dataset[missing]), p=probabilities.values)\n",
    "dataset['ever_married'] = np.where(dataset['ever_married'] == 'Yes', 1, 0)\n",
    "dataset['Residence_type'] = np.where(dataset['Residence_type'] == 'Urban', 1, 0)\n",
    "dataset = pd.get_dummies(dataset)\n",
    "dataset_normalized = (dataset - dataset.mean(axis = 0)) / dataset.std(axis = 0)"
   ]
  },
  {
   "cell_type": "markdown",
   "id": "82d2a722",
   "metadata": {},
   "source": [
    "## Разбиваем данные на обучающую и тестовую выборки:"
   ]
  },
  {
   "cell_type": "markdown",
   "id": "8a069042",
   "metadata": {},
   "source": [
    "При разбиении 30% данных отнесли к тестовой выборке, остальные 70% к обучающей."
   ]
  },
  {
   "cell_type": "code",
   "execution_count": 147,
   "id": "c04cc7e9",
   "metadata": {},
   "outputs": [],
   "source": [
    "x = dataset_normalized.drop(['stroke'], axis=1)\n",
    "y = dataset['stroke']\n",
    "x_train, x_test, y_train, y_test = sklearn.model_selection.train_test_split(x, y, test_size=0.30, random_state=40)"
   ]
  },
  {
   "cell_type": "markdown",
   "id": "d1e36494",
   "metadata": {},
   "source": [
    "## Обучаем классификатор:"
   ]
  },
  {
   "cell_type": "code",
   "execution_count": 148,
   "id": "16c1d07e",
   "metadata": {},
   "outputs": [],
   "source": [
    "model = MLPClassifier(hidden_layer_sizes=(100,),\n",
    "    solver='lbfgs',\n",
    "    activation='logistic',\n",
    "    random_state=42)"
   ]
  },
  {
   "cell_type": "code",
   "execution_count": 149,
   "id": "fe248508",
   "metadata": {},
   "outputs": [
    {
     "name": "stdout",
     "output_type": "stream",
     "text": [
      "Wall time: 4.73 s\n"
     ]
    },
    {
     "data": {
      "text/plain": [
       "MLPClassifier(activation='logistic', random_state=42, solver='lbfgs')"
      ]
     },
     "execution_count": 149,
     "metadata": {},
     "output_type": "execute_result"
    }
   ],
   "source": [
    "%%time\n",
    "model.fit(x_train, y_train)"
   ]
  },
  {
   "cell_type": "markdown",
   "id": "e0032045",
   "metadata": {},
   "source": [
    "## Проверяем качество классификатора:"
   ]
  },
  {
   "cell_type": "code",
   "execution_count": 150,
   "id": "4f4bd78d",
   "metadata": {},
   "outputs": [],
   "source": [
    "y_train_prediction = model.predict(x_train)\n",
    "y_test_prediction = model.predict(x_test)"
   ]
  },
  {
   "cell_type": "code",
   "execution_count": 151,
   "id": "6563a89a",
   "metadata": {},
   "outputs": [
    {
     "name": "stdout",
     "output_type": "stream",
     "text": [
      "Train: 1.0\n"
     ]
    }
   ],
   "source": [
    "print('Train: {}'.format(sklearn.metrics.accuracy_score(y_train, y_train_prediction)))"
   ]
  },
  {
   "cell_type": "code",
   "execution_count": 152,
   "id": "9149deaf",
   "metadata": {},
   "outputs": [
    {
     "name": "stdout",
     "output_type": "stream",
     "text": [
      "Test: 0.923679060665362\n"
     ]
    }
   ],
   "source": [
    "print('Test: {}'.format(sklearn.metrics.accuracy_score(y_test, y_test_prediction)))"
   ]
  },
  {
   "cell_type": "markdown",
   "id": "8cff860a",
   "metadata": {},
   "source": [
    "## Подбор _гипер_параметров:"
   ]
  },
  {
   "cell_type": "markdown",
   "id": "bcd1fa25",
   "metadata": {},
   "source": [
    "Подберем оптимальное значение параметра регуляризации $\\alpha\\$."
   ]
  },
  {
   "cell_type": "code",
   "execution_count": 185,
   "id": "fcfc18ad",
   "metadata": {},
   "outputs": [],
   "source": [
    "alpha_arr = np.logspace(-3, 2, 20)\n",
    "test_err = []\n",
    "train_err = []\n",
    "\n",
    "for alpha in alpha_arr:\n",
    "    model = MLPClassifier(\n",
    "        alpha=alpha,\n",
    "        hidden_layer_sizes=(100,),\n",
    "        solver='lbfgs',\n",
    "        activation ='logistic',\n",
    "        max_iter=1000,\n",
    "        random_state = 42\n",
    "    )\n",
    "    model.fit(x_train, y_train)\n",
    "\n",
    "    y_train_prediction = model.predict(x_train)\n",
    "    y_test_prediction = model.predict(x_test)\n",
    "\n",
    "    test_err.append(np.mean(y_test != y_test_prediction))\n",
    "    train_err.append(np.mean(y_train != y_train_prediction))"
   ]
  },
  {
   "cell_type": "code",
   "execution_count": 186,
   "id": "a8a14ead",
   "metadata": {},
   "outputs": [
    {
     "data": {
      "text/plain": [
       "<matplotlib.legend.Legend at 0x267cb9bafd0>"
      ]
     },
     "execution_count": 186,
     "metadata": {},
     "output_type": "execute_result"
    },
    {
     "data": {
      "image/png": "[encoded data removed]",
      "text/plain": [
       "<Figure size 432x288 with 1 Axes>"
      ]
     },
     "metadata": {
      "needs_background": "light"
     },
     "output_type": "display_data"
    }
   ],
   "source": [
    "plt.semilogx(alpha_arr, train_err, 'm-v', label='train')\n",
    "plt.semilogx(alpha_arr, test_err, 'c-d', label='test')\n",
    "plt.xlim([np.min(alpha_arr), np.max(alpha_arr)])\n",
    "plt.title('Error vs. alpha')\n",
    "plt.xlabel('alpha')\n",
    "plt.ylabel('error')\n",
    "plt.legend()"
   ]
  },
  {
   "cell_type": "markdown",
   "id": "c4d4e1f8",
   "metadata": {},
   "source": [
    "При значениях больших чем 1.0 практически не наблюдается изменение метрики."
   ]
  },
  {
   "cell_type": "code",
   "execution_count": 187,
   "id": "6517ea19",
   "metadata": {},
   "outputs": [
    {
     "name": "stdout",
     "output_type": "stream",
     "text": [
      "Optimal alpha: 1.438449888287663\n"
     ]
    }
   ],
   "source": [
    "min_test_err = np.min(test_err)\n",
    "alpha_optimal = alpha_arr[test_err == min_test_err][0]\n",
    "print('Optimal alpha: {}'.format(alpha_optimal))"
   ]
  },
  {
   "cell_type": "markdown",
   "id": "a6d279ba",
   "metadata": {},
   "source": [
    "##  Подбор числа нейронов:"
   ]
  },
  {
   "cell_type": "markdown",
   "id": "5dcbed28",
   "metadata": {},
   "source": [
    "Оптимальное число нейронов будем искать при оптимальном альфа."
   ]
  },
  {
   "cell_type": "code",
   "execution_count": 188,
   "id": "97c688c6",
   "metadata": {},
   "outputs": [],
   "source": [
    "neuron_count_arr = np.linspace(1, 800, 27).astype(int)\n",
    "test_err = []\n",
    "train_err = []\n",
    "\n",
    "for neuron_count in neuron_count_arr:\n",
    "    model = MLPClassifier(alpha=alpha_optimal, hidden_layer_sizes=(neuron_count,), \n",
    "                          solver='lbfgs', activation ='logistic', max_iter=1000, random_state = 42)\n",
    "    model.fit(x_train, y_train)\n",
    "\n",
    "    y_train_prediction = model.predict(x_train)\n",
    "    y_test_prediction = model.predict(x_test)\n",
    "\n",
    "    test_err.append(np.mean(y_test != y_test_prediction))\n",
    "    train_err.append(np.mean(y_train != y_train_prediction))"
   ]
  },
  {
   "cell_type": "code",
   "execution_count": 189,
   "id": "ab42d963",
   "metadata": {},
   "outputs": [
    {
     "data": {
      "text/plain": [
       "<matplotlib.legend.Legend at 0x267cefffa00>"
      ]
     },
     "execution_count": 189,
     "metadata": {},
     "output_type": "execute_result"
    },
    {
     "data": {
      "image/png": "[encoded data removed]",
      "text/plain": [
       "<Figure size 432x288 with 1 Axes>"
      ]
     },
     "metadata": {
      "needs_background": "light"
     },
     "output_type": "display_data"
    }
   ],
   "source": [
    "plt.plot(neuron_count_arr, train_err, 'm-v', label='train')\n",
    "plt.plot(neuron_count_arr, test_err, 'c-d', label='test')\n",
    "plt.xlim([np.min(neuron_count_arr), np.max(neuron_count_arr)])\n",
    "plt.title('Error vs. neuron count')\n",
    "plt.xlabel('neuron count')\n",
    "plt.ylabel('error')\n",
    "plt.legend()"
   ]
  },
  {
   "cell_type": "code",
   "execution_count": 190,
   "id": "5ca94e1d",
   "metadata": {},
   "outputs": [
    {
     "name": "stdout",
     "output_type": "stream",
     "text": [
      "Optimal neuron count: 154\n"
     ]
    }
   ],
   "source": [
    "min_test_err = np.min(test_err)\n",
    "neuron_count_optimal = neuron_count_arr[test_err == min_test_err][0]\n",
    "print('Optimal neuron count: {}'.format(neuron_count_optimal))"
   ]
  },
  {
   "cell_type": "markdown",
   "id": "70ae7ab4",
   "metadata": {},
   "source": [
    "При значения больших чем 150 значение метрики практически не изменяется, имеющиеся колебания достаточно незначительны."
   ]
  },
  {
   "cell_type": "markdown",
   "id": "5b62cb39",
   "metadata": {},
   "source": [
    "##  Итоговая классификация:"
   ]
  },
  {
   "cell_type": "code",
   "execution_count": 191,
   "id": "a036de4f",
   "metadata": {},
   "outputs": [
    {
     "name": "stdout",
     "output_type": "stream",
     "text": [
      "[Accuracy on optimized]\n",
      "\n",
      "Train: 0.9502376292982947, Test: 0.954337899543379\n"
     ]
    }
   ],
   "source": [
    "model = MLPClassifier(\n",
    "    alpha=alpha_optimal,\n",
    "    hidden_layer_sizes=(neuron_count_optimal,),\n",
    "    solver='lbfgs',\n",
    "    activation='logistic',\n",
    "    max_iter=1000,\n",
    "    random_state=42\n",
    ")\n",
    "\n",
    "model.fit(x_train, y_train)\n",
    "\n",
    "y_train_prediction = model.predict(x_train)\n",
    "y_test_prediction = model.predict(x_test)\n",
    "\n",
    "print('[Accuracy on optimized]\\n')\n",
    "print('Train: {}, Test: {}'.format(\n",
    "    sklearn.metrics.accuracy_score(y_train, y_train_prediction),\n",
    "    sklearn.metrics.accuracy_score(y_test, y_test_prediction)\n",
    "))\n",
    "\n"
   ]
  },
  {
   "cell_type": "markdown",
   "id": "4f53cae8",
   "metadata": {},
   "source": [
    "## Матрица рассогласования:"
   ]
  },
  {
   "cell_type": "code",
   "execution_count": 192,
   "id": "211dec11",
   "metadata": {},
   "outputs": [],
   "source": [
    "from sklearn.metrics import plot_confusion_matrix"
   ]
  },
  {
   "cell_type": "code",
   "execution_count": 193,
   "id": "6ec698c5",
   "metadata": {},
   "outputs": [
    {
     "data": {
      "text/plain": [
       "<sklearn.metrics._plot.confusion_matrix.ConfusionMatrixDisplay at 0x267cb6869a0>"
      ]
     },
     "execution_count": 193,
     "metadata": {},
     "output_type": "execute_result"
    },
    {
     "data": {
      "image/png": "[encoded data removed]",
      "text/plain": [
       "<Figure size 432x288 with 2 Axes>"
      ]
     },
     "metadata": {
      "needs_background": "light"
     },
     "output_type": "display_data"
    }
   ],
   "source": [
    "plot_confusion_matrix(model, x_test, y_test) "
   ]
  },
  {
   "cell_type": "markdown",
   "id": "44127738",
   "metadata": {},
   "source": [
    "##  Выводы:"
   ]
  },
  {
   "cell_type": "markdown",
   "id": "419f5b0d",
   "metadata": {},
   "source": [
    "- Изначально у тренировочной выборки метрика была равна 1. Наблюдалось переобучение, при устранении которого, видимо, и был получен лучший результат на тестовой выборке.\n",
    "-Подбор оптимального числа нейронов при оптимальном значении регуляции помог немного повысить точность на тестовой выборке."
   ]
  }
 ],
 "metadata": {
  "kernelspec": {
   "display_name": "Python 3",
   "language": "python",
   "name": "python3"
  },
  "language_info": {
   "codemirror_mode": {
    "name": "ipython",
    "version": 3
   },
   "file_extension": ".py",
   "mimetype": "text/x-python",
   "name": "python",
   "nbconvert_exporter": "python",
   "pygments_lexer": "ipython3",
   "version": "3.8.8"
  }
 },
 "nbformat": 4,
 "nbformat_minor": 5
}
